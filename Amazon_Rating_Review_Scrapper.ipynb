{
  "nbformat": 4,
  "nbformat_minor": 0,
  "metadata": {
    "colab": {
      "name": "Amazon Rating Review Scrapper.ipynb",
      "provenance": [],
      "collapsed_sections": []
    },
    "kernelspec": {
      "name": "python3",
      "display_name": "Python 3"
    },
    "language_info": {
      "name": "python"
    }
  },
  "cells": [
    {
      "cell_type": "code",
      "execution_count": 2,
      "metadata": {
        "id": "cgz2dm8sUV0j"
      },
      "outputs": [],
      "source": [
        "import requests\n",
        "import pandas as pd\n",
        "from bs4 import BeautifulSoup\n",
        "from google.colab import files"
      ]
    },
    {
      "cell_type": "code",
      "source": [
        "HEADERS = {'User-Agent':\n",
        "        'Mozilla/5.0 (Windows NT 10.0; Win64; x64) \\\n",
        "        AppleWebKit/537.36 (KHTML, like Gecko) \\\n",
        "        Chrome/90.0.4430.212 Safari/537.36'}\n",
        "\n",
        "COOKIES = {}"
      ],
      "metadata": {
        "id": "SsY4YESBiHiX"
      },
      "execution_count": 16,
      "outputs": []
    },
    {
      "cell_type": "code",
      "source": [
        "def get_data(url):\n",
        "  page = requests.get(url, cookies=COOKIES, headers=HEADERS)\n",
        "  return page"
      ],
      "metadata": {
        "id": "CpRGSx2VGU9y"
      },
      "execution_count": 17,
      "outputs": []
    },
    {
      "cell_type": "code",
      "source": [
        "def fetch_href(soup):\n",
        "  links = []\n",
        "  for items in soup.findAll(\"a\" , {'data-hook':\"see-all-reviews-link-foot\"}):\n",
        "      links.append(items['href'])\n",
        "  return links[0]"
      ],
      "metadata": {
        "id": "vy9AHAFAi5i3"
      },
      "execution_count": 30,
      "outputs": []
    },
    {
      "cell_type": "code",
      "source": [
        "def customer_review(soup):\n",
        "    data_str = \"\"\n",
        "    td_tag_list = soup.findAll(lambda tag: \"data-hook\" in tag.attrs and tag[\"data-hook\"] == \"review\")\n",
        "    for item in td_tag_list:\n",
        "        selected_item = item.findAll(\"span\", attrs={'class': 'a-size-base review-text review-text-content'})\n",
        "        if selected_item:\n",
        "            temp_text = selected_item[0].get_text()\n",
        "            if len(temp_text) > 0:\n",
        "                data_str = data_str + temp_text\n",
        "            else:\n",
        "                data_str = data_str + \" \\n\"\n",
        "        else:\n",
        "            data_str = data_str + \" \\n\"\n",
        "    result = data_str.split(\"\\n\")\n",
        "    return (result)"
      ],
      "metadata": {
        "id": "E38pqISCzpsH"
      },
      "execution_count": 32,
      "outputs": []
    },
    {
      "cell_type": "code",
      "source": [
        "def customer_rating(soup):\n",
        "    data_out_list = []\n",
        "    data_str = \"\"\n",
        "    td_tag_list = soup.findAll(lambda tag: \"data-hook\" in tag.attrs and tag[\"data-hook\"] == \"review-star-rating\")\n",
        "    for item in td_tag_list:\n",
        "        selected_item = item.findAll(\"span\", attrs={'class': 'a-icon-alt'})\n",
        "        if selected_item:\n",
        "            data_str = selected_item[0].get_text().split(\"out\")[0].strip(\" \")\n",
        "            data_int = int(float(data_str))\n",
        "            data_out_list.append(data_int)\n",
        "    return data_out_list"
      ],
      "metadata": {
        "id": "yv4atTLDzqZd"
      },
      "execution_count": 33,
      "outputs": []
    },
    {
      "cell_type": "code",
      "source": [
        "def extract_r_and_r(data_asin):\n",
        "  all_reviews = []\n",
        "  review_data = []\n",
        "  rating_data = []\n",
        "  url = f\"https://www.amazon.in/dp/{data_asin}\"\n",
        "  \n",
        "  response = get_data(url)\n",
        "  soup = BeautifulSoup(response.content)\n",
        "  link = fetch_href(soup)\n",
        "\n",
        "\n",
        "\n",
        "  i = 0\n",
        "  print(f\"Fetching reviews from the product: {data_asin}\")\n",
        "\n",
        "  while 1:\n",
        "    i += 1\n",
        "    url = f\"https://www.amazon.in{link}&pageNumber={i}\"\n",
        "    response = get_data(url)\n",
        "    soup = BeautifulSoup(response.text)\n",
        "    review_data = customer_review(soup)\n",
        "    review_data = [review for review in review_data if len(review) > 0]\n",
        "    temp_rating_data = customer_rating(soup)\n",
        "    rating_data.extend(temp_rating_data)\n",
        "    if len(review_data) == 0:\n",
        "        break\n",
        "    all_reviews += review_data\n",
        "  reviews_df = pd.DataFrame({'reviews': all_reviews,'ratings': rating_data})\n",
        "  reviews_df[\"ASIN\"] = data_asin\n",
        "  print(\"{} has {} reviews\".format(data_asin, reviews_df.shape[0]))\n",
        "  return reviews_df"
      ],
      "metadata": {
        "id": "mGEbjRSmi5lc"
      },
      "execution_count": 34,
      "outputs": []
    },
    {
      "cell_type": "code",
      "source": [
        "data_asins = ['B09T4T4596' , 'B09QRTXCWD', 'B09QSBPKTF', 'B09QRL1M8Y', 'B09QRQQL51']\n",
        "#data_asins = ['B09T4T4596']\n",
        "r_and_r_file_name = \"Reviews_and_Ratings.xlsx\"\n",
        "\n",
        "\n",
        "li = []\n",
        "for asins in data_asins:\n",
        "    df = extract_r_and_r(asins)\n",
        "    li.append(df)\n",
        "reviews_df = pd.concat(li, axis=0,ignore_index=True)"
      ],
      "metadata": {
        "colab": {
          "base_uri": "https://localhost:8080/"
        },
        "id": "TI5Wye_Fi5oE",
        "outputId": "b940d0f4-e6fb-428a-8216-cc690433b19f"
      },
      "execution_count": 37,
      "outputs": [
        {
          "output_type": "stream",
          "name": "stdout",
          "text": [
            "Fetching reviews from the product: B09T4T4596\n",
            "B09T4T4596 has 7 reviews\n",
            "Fetching reviews from the product: B09QRTXCWD\n",
            "B09QRTXCWD has 59 reviews\n",
            "Fetching reviews from the product: B09QSBPKTF\n",
            "B09QSBPKTF has 59 reviews\n",
            "Fetching reviews from the product: B09QRL1M8Y\n",
            "B09QRL1M8Y has 6 reviews\n",
            "Fetching reviews from the product: B09QRQQL51\n",
            "B09QRQQL51 has 8 reviews\n"
          ]
        }
      ]
    },
    {
      "cell_type": "code",
      "source": [
        "reviews_df.to_excel(r_and_r_file_name, index=False)"
      ],
      "metadata": {
        "id": "s5nNNdk10mzd"
      },
      "execution_count": 38,
      "outputs": []
    },
    {
      "cell_type": "code",
      "source": [
        "files.download(r_and_r_file_name) "
      ],
      "metadata": {
        "id": "vfQdQHjk0ne9"
      },
      "execution_count": null,
      "outputs": []
    }
  ]
}